{
 "cells": [
  {
   "cell_type": "code",
   "execution_count": 48,
   "metadata": {},
   "outputs": [],
   "source": [
    "import torch\n",
    "import random\n",
    "import numpy as np\n",
    "from sklearn import manifold, datasets\n",
    "import matplotlib.pyplot as plt\n",
    "from argparse import ArgumentParser, Namespace\n",
    "from pathlib import Path\n",
    "from typing import Dict\n",
    "import time\n",
    "\n",
    "from src.embedding import mbed\n",
    "from src.kmeans import BisectingKmeans\n",
    "from src.upgma import UPGMA"
   ]
  },
  {
   "cell_type": "code",
   "execution_count": 49,
   "metadata": {},
   "outputs": [],
   "source": [
    "seed = 2\n",
    "deviceType = 'cuda:0'\n",
    "inputFile = \"./data/bb3_release/RV50/BB50003.tfa\"\n",
    "numpyckpt = \"./ckpt/numpy/test.npy\""
   ]
  },
  {
   "cell_type": "code",
   "execution_count": 50,
   "metadata": {},
   "outputs": [],
   "source": [
    "torch.manual_seed(seed)\n",
    "torch.cuda.manual_seed(seed)\n",
    "torch.cuda.manual_seed_all(seed)\n",
    "np.random.seed(seed)\n",
    "random.seed(seed)\n",
    "torch.backends.cudnn.benchmark = False\n",
    "torch.backends.cudnn.deterministic = True\n",
    "device = torch.device(deviceType)"
   ]
  },
  {
   "cell_type": "code",
   "execution_count": 51,
   "metadata": {},
   "outputs": [],
   "source": [
    "# Embedding = mbed(inputFile)\n",
    "# sequences = Embedding.seqs\n",
    "# centers, clusters = BisectingKmeans(sequences, device, 4)"
   ]
  },
  {
   "cell_type": "code",
   "execution_count": 52,
   "metadata": {},
   "outputs": [
    {
     "name": "stdout",
     "output_type": "stream",
     "text": [
      "[[0.9012605  0.89285714 0.87394958 ... 0.82563025 0.84243697 0.86764706]\n",
      " [0.89532294 0.88418708 0.88641425 ... 0.83964365 0.85077951 0.85746102]\n",
      " [0.89046653 0.90060852 0.89655172 ... 0.88032454 0.88438134 0.88640974]\n",
      " ...\n",
      " [0.88669065 0.88616462 0.89059829 ... 0.76790831 0.73709677 0.        ]\n",
      " [0.89208633 0.86514886 0.89401709 ... 0.66831683 0.67656766 0.64356436]\n",
      " [0.89285714 0.87301587 0.90079365 ... 0.88690476 0.86507937 0.88492063]] [ 0  0  0  0  1  1  1  1  2  2  2  2  3  3  3  3  4  4  4  5  5  5  6  6\n",
      "  6  7  7  7  8  8  8  9  9 10 10 11 11 12 12 13 13 14 15]\n"
     ]
    }
   ],
   "source": [
    "with open(numpyckpt, 'rb') as f:\n",
    "    X = np.load(f)\n",
    "    Y = np.load(f)\n",
    "print(X, Y)\n",
    "X_embedded = manifold.TSNE(n_components=2, learning_rate='auto', init='random').fit_transform(X)"
   ]
  },
  {
   "cell_type": "code",
   "execution_count": 53,
   "metadata": {},
   "outputs": [
    {
     "name": "stdout",
     "output_type": "stream",
     "text": [
      "[[-18.795563     2.2901115 ]\n",
      " [-18.778921     2.1940718 ]\n",
      " [-18.598404     2.2783558 ]\n",
      " [-18.644474     2.2264292 ]\n",
      " [-19.709923     1.0016868 ]\n",
      " [-20.009455     0.8346846 ]\n",
      " [-20.019888     0.8478895 ]\n",
      " [-19.724804     1.1070831 ]\n",
      " [-20.621407     3.7247798 ]\n",
      " [-20.638182     3.7485294 ]\n",
      " [-20.56327      3.6470933 ]\n",
      " [-20.520826     3.5737884 ]\n",
      " [-18.510323     2.8715885 ]\n",
      " [-18.543686     2.7629032 ]\n",
      " [-18.17777      3.0998938 ]\n",
      " [-18.203451     3.0965042 ]\n",
      " [-18.841785     2.1858394 ]\n",
      " [-18.80631      2.1815572 ]\n",
      " [-18.79865      2.2073138 ]\n",
      " [-18.75911      2.469857  ]\n",
      " [-18.653997     2.3927593 ]\n",
      " [-18.766506     2.3525364 ]\n",
      " [-19.126396     1.2650701 ]\n",
      " [-18.670883     1.0176141 ]\n",
      " [-18.811752     1.1144918 ]\n",
      " [-18.803446     1.0235558 ]\n",
      " [-18.775314     0.8885323 ]\n",
      " [-18.812029     0.9366629 ]\n",
      " [-20.208786     3.251105  ]\n",
      " [-19.94953      2.8665342 ]\n",
      " [-19.949884     2.8829606 ]\n",
      " [-17.89662      2.274718  ]\n",
      " [-17.858265     2.3271537 ]\n",
      " [-18.06361      2.0881245 ]\n",
      " [-18.25137      2.1693227 ]\n",
      " [-19.98666      0.83523035]\n",
      " [-19.990187     0.84717846]\n",
      " [-20.625427     3.736268  ]\n",
      " [-20.622425     3.7338133 ]\n",
      " [-20.287394     3.2854977 ]\n",
      " [-20.170954     2.935354  ]\n",
      " [-20.649206     3.7704651 ]\n",
      " [-18.323013     3.073418  ]]\n",
      "[ 0  0  0  0  1  1  1  1  2  2  2  2  3  3  3  3  4  4  4  5  5  5  6  6\n",
      "  6  7  7  7  8  8  8  9  9 10 10 11 11 12 12 13 13 14 15]\n"
     ]
    }
   ],
   "source": [
    "print(X_embedded)\n",
    "print(Y)"
   ]
  },
  {
   "cell_type": "code",
   "execution_count": 54,
   "metadata": {},
   "outputs": [
    {
     "data": {
      "image/png": "[encoded data removed]",
      "text/plain": [
       "<Figure size 576x576 with 1 Axes>"
      ]
     },
     "metadata": {},
     "output_type": "display_data"
    }
   ],
   "source": [
    "#Data Visualization\n",
    "x_min, x_max = X_embedded.min(0), X_embedded.max(0)\n",
    "X_norm = (X_embedded - x_min) / (x_max - x_min)  #Normalize\n",
    "plt.figure(figsize=(8, 8))\n",
    "for i in range(X_norm.shape[0]):\n",
    "    plt.text(X_norm[i, 0], X_norm[i, 1], str(Y[i]), color=plt.cm.Set1(Y[i]), \n",
    "             fontdict={'weight': 'bold', 'size': 9})\n",
    "plt.xticks([])\n",
    "plt.yticks([])\n",
    "plt.show()"
   ]
  },
  {
   "cell_type": "code",
   "execution_count": 55,
   "metadata": {},
   "outputs": [
    {
     "name": "stdout",
     "output_type": "stream",
     "text": [
      "{(2, 3, 0, 0), (1, 3, 1, 0), (3, 0, 0, 0), (3, 1, 0, 0), (1, 3, 0, 0)}\n"
     ]
    }
   ],
   "source": [
    "a = set([(1, 3, 1, 0), (3, 1, 0, 0), (2, 3, 0, 0), (3, 0, 0, 0), (1, 3, 0, 0)])\n",
    "print(a)"
   ]
  }
 ],
 "metadata": {
  "interpreter": {
   "hash": "2db524e06e9f5f4ffedc911c917cb75e12dbc923643829bf417064a77eb14d37"
  },
  "kernelspec": {
   "display_name": "Python 3.8.5 64-bit",
   "language": "python",
   "name": "python3"
  },
  "language_info": {
   "codemirror_mode": {
    "name": "ipython",
    "version": 3
   },
   "file_extension": ".py",
   "mimetype": "text/x-python",
   "name": "python",
   "nbconvert_exporter": "python",
   "pygments_lexer": "ipython3",
   "version": "3.8.5"
  },
  "orig_nbformat": 4
 },
 "nbformat": 4,
 "nbformat_minor": 2
}
